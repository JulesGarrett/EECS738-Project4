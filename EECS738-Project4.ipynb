{
 "cells": [
  {
   "cell_type": "code",
   "execution_count": 25,
   "metadata": {},
   "outputs": [],
   "source": [
    "import numpy as np\n",
    "import random\n",
    "R = np.matrix([[-1,-1,-1,-1,0,-1],\n",
    "              [-1,-1,-1,0,-1,100],\n",
    "              [-1,-1,-1,0,-1,-1],\n",
    "              [-1,0,0,-1,0,-1],\n",
    "              [-1,0,0,-1,-1,100],\n",
    "              [-1,0,-1,-1,0,100]])"
   ]
  },
  {
   "cell_type": "code",
   "execution_count": 43,
   "metadata": {},
   "outputs": [],
   "source": [
    "Q = np.matrix(np.zeros([6,6]))\n",
    "\n",
    "gamma = 0.8\n",
    "\n",
    "initial_state = int(random.random()*10)%6\n"
   ]
  },
  {
   "cell_type": "code",
   "execution_count": 44,
   "metadata": {},
   "outputs": [],
   "source": [
    "def available_actions(state):\n",
    "    curr_state_row = R[state,]\n",
    "    av_act = np.where(curr_state_row >= 0)[1]\n",
    "    return av_act\n",
    "#get available actions\n",
    "avail_act = available_actions(initial_state)"
   ]
  },
  {
   "cell_type": "code",
   "execution_count": 45,
   "metadata": {},
   "outputs": [],
   "source": [
    "def try_next_action(avail_act):\n",
    "    next_act = int(np.random.choice(avail_act, 1))\n",
    "    return next_act\n",
    "    \n",
    "action = try_next_action(avail_act)"
   ]
  },
  {
   "cell_type": "code",
   "execution_count": 46,
   "metadata": {},
   "outputs": [],
   "source": [
    "def update(curr_state, action, gamma):\n",
    "    max_index = np.where(Q[action,]== np.max(Q[action,]))[1]\n",
    "    if max_index.shape[0] > 1:\n",
    "        max_index = int(np.random.choice(max_index, size = 1))\n",
    "    else:\n",
    "        max_index = int(max_index)\n",
    "    max_value = Q[action, max_index]\n",
    "    \n",
    "    Q[curr_state, action] = R[curr_state, action] + gamma * max_value\n",
    "\n",
    "update(initial_state, action, gamma)"
   ]
  },
  {
   "cell_type": "code",
   "execution_count": 47,
   "metadata": {},
   "outputs": [
    {
     "name": "stdout",
     "output_type": "stream",
     "text": [
      "Trained Q Matrix:\n",
      "[[  0.    0.    0.    0.   80.    0. ]\n",
      " [  0.    0.    0.   64.    0.  100. ]\n",
      " [  0.    0.    0.   64.    0.    0. ]\n",
      " [  0.   80.   51.2   0.   80.    0. ]\n",
      " [  0.   80.   51.2   0.    0.  100. ]\n",
      " [  0.   80.    0.    0.   80.  100. ]]\n"
     ]
    }
   ],
   "source": [
    "#train\n",
    "for i in range(10000):\n",
    "    curr_state = np.random.randint(0, int(Q.shape[0]))\n",
    "    avail_act = available_actions(curr_state)\n",
    "    action = try_next_action(avail_act)\n",
    "    update(curr_state, action, gamma)\n",
    "\n",
    "\n",
    "print(\"Trained Q Matrix:\")\n",
    "print(Q/np.max(Q)*100)\n"
   ]
  },
  {
   "cell_type": "code",
   "execution_count": 49,
   "metadata": {},
   "outputs": [
    {
     "name": "stdout",
     "output_type": "stream",
     "text": [
      "Selected path:\n",
      "[2, 3, 4, 5]\n"
     ]
    }
   ],
   "source": [
    "curr_state = 2\n",
    "steps = [curr_state]\n",
    "\n",
    "while curr_state != 5:\n",
    "\n",
    "    next_step_index = np.where(Q[curr_state,] == np.max(Q[curr_state,]))[1]\n",
    "    \n",
    "    if next_step_index.shape[0] > 1:\n",
    "        next_step_index = int(np.random.choice(next_step_index, size = 1))\n",
    "    else:\n",
    "        next_step_index = int(next_step_index)\n",
    "    \n",
    "    steps.append(next_step_index)\n",
    "    curr_state = next_step_index\n",
    "\n",
    "# Print selected sequence of steps\n",
    "print(\"Selected path:\")\n",
    "print(steps)"
   ]
  },
  {
   "cell_type": "code",
   "execution_count": 32,
   "metadata": {},
   "outputs": [
    {
     "data": {
      "text/plain": [
       "7"
      ]
     },
     "execution_count": 32,
     "metadata": {},
     "output_type": "execute_result"
    }
   ],
   "source": []
  },
  {
   "cell_type": "code",
   "execution_count": null,
   "metadata": {},
   "outputs": [],
   "source": []
  },
  {
   "cell_type": "code",
   "execution_count": null,
   "metadata": {},
   "outputs": [],
   "source": []
  }
 ],
 "metadata": {
  "kernelspec": {
   "display_name": "Python 3",
   "language": "python",
   "name": "python3"
  },
  "language_info": {
   "codemirror_mode": {
    "name": "ipython",
    "version": 3
   },
   "file_extension": ".py",
   "mimetype": "text/x-python",
   "name": "python",
   "nbconvert_exporter": "python",
   "pygments_lexer": "ipython3",
   "version": "3.7.1"
  }
 },
 "nbformat": 4,
 "nbformat_minor": 2
}
