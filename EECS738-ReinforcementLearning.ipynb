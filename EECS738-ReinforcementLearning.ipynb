{
 "cells": [
  {
   "cell_type": "code",
   "execution_count": 17,
   "metadata": {},
   "outputs": [],
   "source": [
    "import numpy as np\n",
    "import random\n",
    "import pprint as pp\n",
    "import pandas as pd\n",
    "from tqdm import tqdm"
   ]
  },
  {
   "cell_type": "raw",
   "metadata": {},
   "source": [
    "This a basic visual of the treasure map. S represents the starting place. X represents a barrier that deducts points. E represents an enemy that should be avoided and also deducts points. And * represents an open path. \n",
    "\n",
    "###########\n",
    "\n",
    "|SX***|\n",
    "|****E|\n",
    "|**X**|\n",
    "|X*E**|\n",
    "|*XXEG|\n",
    "\n",
    "###########\n"
   ]
  },
  {
   "cell_type": "code",
   "execution_count": 18,
   "metadata": {},
   "outputs": [],
   "source": [
    "###############################\n",
    "##INITIALIZE THE MAZE MATRIX ##\n",
    "###############################\n",
    "\n",
    "#gamma is the learning rate for the Q train\n",
    "gamma = 0.8\n",
    "\n",
    "#Table of the reward/penalty values for each element in the map\n",
    "# E = -10     X = -5    * = 1 .   G = 10\n",
    "# A zero is in the array if the index is invalid and thus the searcher cannot go.\n",
    "\n",
    "reward =       np.array([[0, 1, 0, -5, 1],\n",
    "                         [0, 1, 1, 1, -5],\n",
    "                         [0, 1, -5, 1, 1],\n",
    "                         [0, 1, 1, 1, 1],\n",
    "                         [0, -10, 1, 0, 1],\n",
    "                         \n",
    "                         [1, 1, 0,  1, 1],\n",
    "                         [-5, 1, 1, 1, 1],\n",
    "                         [1, -5, 1, 1, 1],\n",
    "                         [1, 1, 1, -10, 1],\n",
    "                         [1, 1, 1,  0, -10],\n",
    "                         \n",
    "                         [1, -5,  0, 1, 1],\n",
    "                         [1, 1,   1, -5, 1],\n",
    "                         [1, -10, 1, 1, -5],\n",
    "                         [1, 1,  -5, 1, 1],\n",
    "                         [-10, 1, 1, 0, 1],\n",
    "                         \n",
    "                         [1, 1, 0,     1, -5],\n",
    "                         [1, -5, -5,   -10,1],\n",
    "                         [-5, -5, 1,   1, -10],\n",
    "                         [1, -10, -10, 1, 1],\n",
    "                         [1, 100, 1,   0, 1],\n",
    "                         \n",
    "                         [-5, 0, 0, -5, 1],\n",
    "                         [1, 0, 1,  -5, -5],\n",
    "                         [-10, 0,-5,-10, -5],\n",
    "                         [1, 0, 1,   10, -10],\n",
    "                         [1, 0, 1,   0, 10]\n",
    "                      ])"
   ]
  },
  {
   "cell_type": "code",
   "execution_count": 19,
   "metadata": {},
   "outputs": [],
   "source": [
    "#Create the frame work for the Q matrix\n",
    "Q = np.zeros((25,5))"
   ]
  },
  {
   "cell_type": "code",
   "execution_count": 20,
   "metadata": {},
   "outputs": [],
   "source": [
    "#Create the transition matrix explaining the layout of the map, ie 5X5 grid\n",
    "transition  = np.array([[-1, 5, -1, 1, 0],\n",
    "                       [-1, 6, 0, 2, 1],\n",
    "                       [-1, 7, 1, 3, 2],\n",
    "                       [-1, 8, 2, 4, 3],\n",
    "                       [-1, 9, 3, -1, 4],\n",
    "                       [0, 10, -1, 6, 5],\n",
    "                       [1, 11, 5, 7, 6],\n",
    "                       [2, 12, 6, 8, 7],\n",
    "                       [3, 13, 7, 9, 8],\n",
    "                       [4, 14, 8, -1, 9],\n",
    "                       [5, 15, -1, 11, 10],\n",
    "                       [6, 16, 10, 12, 11],\n",
    "                       [7, 17, 11, 13, 12],\n",
    "                       [8, 18, 12, 14, 13],\n",
    "                       [9, 19, 13, -1, 14],\n",
    "                       [10, 20, -1, 16, 15],\n",
    "                       [11, 21, 15, 17, 16],\n",
    "                       [12, 22, 16, 18, 17],\n",
    "                       [13, 23, 17, 19, 18],\n",
    "                       [14, 24, 18, -1, 19],\n",
    "                       [15, -1, -1, 21, 20],\n",
    "                       [16, -1, 20, 22, 21],\n",
    "                       [17, -1, 21, 23, 22],\n",
    "                       [18, -1, 22, 24, 23],\n",
    "                       [19, -1, 23, -1, 24]\n",
    "                        ])\n"
   ]
  },
  {
   "cell_type": "code",
   "execution_count": 21,
   "metadata": {},
   "outputs": [
    {
     "data": {
      "text/plain": [
       "[[1, 3, 4],\n",
       " [1, 2, 3, 4],\n",
       " [1, 2, 3, 4],\n",
       " [1, 2, 3, 4],\n",
       " [1, 2, 4],\n",
       " [0, 1, 3, 4],\n",
       " [0, 1, 2, 3, 4],\n",
       " [0, 1, 2, 3, 4],\n",
       " [0, 1, 2, 3, 4],\n",
       " [0, 1, 2, 4],\n",
       " [0, 1, 3, 4],\n",
       " [0, 1, 2, 3, 4],\n",
       " [0, 1, 2, 3, 4],\n",
       " [0, 1, 2, 3, 4],\n",
       " [0, 1, 2, 4],\n",
       " [0, 1, 3, 4],\n",
       " [0, 1, 2, 3, 4],\n",
       " [0, 1, 2, 3, 4],\n",
       " [0, 1, 2, 3, 4],\n",
       " [0, 1, 2, 4],\n",
       " [0, 3, 4],\n",
       " [0, 2, 3, 4],\n",
       " [0, 2, 3, 4],\n",
       " [0, 2, 3, 4],\n",
       " [0, 2, 4]]"
      ]
     },
     "execution_count": 21,
     "metadata": {},
     "output_type": "execute_result"
    }
   ],
   "source": [
    "#iterates through the reward array to find what moves to which states/cells can be made\n",
    "moves = []\n",
    "for i in range(len(reward)):\n",
    "    temp = []\n",
    "    for j in range(len(reward[0])):\n",
    "        if reward[i][j] != 0:\n",
    "            temp.append(j)\n",
    "    moves.append(temp)\n",
    "moves"
   ]
  },
  {
   "cell_type": "code",
   "execution_count": 22,
   "metadata": {},
   "outputs": [
    {
     "name": "stderr",
     "output_type": "stream",
     "text": [
      "\n",
      "\n",
      "  0%|          | 0/1000 [00:00<?, ?it/s]\u001b[A\u001b[A\n",
      "\n",
      " 10%|█         | 103/1000 [00:00<00:00, 1024.25it/s]\u001b[A\u001b[A\n",
      "\n",
      " 23%|██▎       | 226/1000 [00:00<00:00, 1077.34it/s]\u001b[A\u001b[A\n",
      "\n",
      " 35%|███▌      | 352/1000 [00:00<00:00, 1125.56it/s]\u001b[A\u001b[A\n",
      "\n",
      " 48%|████▊     | 478/1000 [00:00<00:00, 1154.82it/s]\u001b[A\u001b[A\n",
      "\n",
      " 61%|██████    | 611/1000 [00:00<00:00, 1201.96it/s]\u001b[A\u001b[A\n",
      "\n",
      " 72%|███████▏  | 716/1000 [00:00<00:00, 1113.33it/s]\u001b[A\u001b[A\n",
      "\n",
      " 83%|████████▎ | 826/1000 [00:00<00:00, 1108.85it/s]\u001b[A\u001b[A\n",
      "\n",
      " 94%|█████████▍| 940/1000 [00:00<00:00, 1117.27it/s]\u001b[A\u001b[A\n",
      "\n",
      "100%|██████████| 1000/1000 [00:00<00:00, 1147.75it/s]\u001b[A\u001b[A"
     ]
    }
   ],
   "source": [
    "#################################\n",
    "#####REINFORCEMENT TRAINING######\n",
    "#################################\n",
    "\n",
    "#train the algorithm for 1000 iternations\n",
    "for i in tqdm(range(1000)):\n",
    "    #The searcher starts in the 0,0 cell\n",
    "    S = 0\n",
    "    curr = S\n",
    "    \n",
    "    #Keep searching until treasure cell is found (cell(5,5) = state 24)\n",
    "    while curr != 24:\n",
    "        #select a move for the searcher to take\n",
    "        search_move = random.choice(moves[curr])\n",
    "        \n",
    "        #go to the state based off the move just taken\n",
    "        next_state = transition[curr][search_move]\n",
    "        future_reward = []\n",
    "        \n",
    "        #add the current rewards value for all possible actions\n",
    "        for move in moves[next_state]:\n",
    "            future_reward.append(Q[next_state][move])\n",
    "        \n",
    "        #select the largest Q value \n",
    "        q_state = reward[curr][search_move] + gamma*max(future_reward)\n",
    "        \n",
    "        #update the Q table with new rewards\n",
    "        Q[curr][search_move] = q_state\n",
    "        \n",
    "        #set the current state to the next state to progress\n",
    "        curr = next_state"
   ]
  },
  {
   "cell_type": "code",
   "execution_count": 44,
   "metadata": {},
   "outputs": [
    {
     "data": {
      "text/plain": [
       "array([[  0.       ,  24.922944 ,   0.       ,  18.922944 ,  20.9383552],\n",
       "       [  0.       ,  29.90368  ,  20.9383552,  29.90368  ,  18.922944 ],\n",
       "       [  0.       ,  36.1296   ,  18.922944 ,  36.1296   ,  29.90368  ],\n",
       "       [  0.       ,  43.912    ,  29.90368  ,  35.112    ,  36.1296   ],\n",
       "       [  0.       ,  42.64     ,  36.1296   ,   0.       ,  35.112    ],\n",
       "       [ 20.9383552,  26.06368  ,   0.       ,  29.90368  ,  24.922944 ],\n",
       "       [ 18.922944 ,  31.3296   ,  24.922944 ,  36.1296   ,  29.90368  ],\n",
       "       [ 29.90368  ,  37.912    ,  29.90368  ,  43.912    ,  36.1296   ],\n",
       "       [ 36.1296   ,  53.64     ,  36.1296   ,  42.64     ,  43.912    ],\n",
       "       [ 35.112    ,  65.8      ,  43.912    ,   0.       ,  42.64     ],\n",
       "       [ 24.922944 ,  23.0896   ,   0.       ,  31.3296   ,  26.06368  ],\n",
       "       [ 29.90368  ,  35.112    ,  26.06368  ,  37.912    ,  31.3296   ],\n",
       "       [ 36.1296   ,  42.64     ,  31.3296   ,  53.64     ,  37.912    ],\n",
       "       [ 43.912    ,  65.8      ,  37.912    ,  65.8      ,  53.64     ],\n",
       "       [ 42.64     ,  81.       ,  53.64     ,   0.       ,  65.8      ],\n",
       "       [ 26.06368  ,  19.47168  ,   0.       ,  35.112    ,  23.0896   ],\n",
       "       [ 31.3296   ,  23.0896   ,  23.0896   ,  42.64     ,  35.112    ],\n",
       "       [ 37.912    ,  29.112    ,  35.112    ,  65.8      ,  42.64     ],\n",
       "       [ 53.64     ,  42.64     ,  42.64     ,  81.       ,  65.8      ],\n",
       "       [ 65.8      , 100.       ,  65.8      ,   0.       ,  81.       ],\n",
       "       [ 23.0896   ,   0.       ,   0.       ,  23.0896   ,  19.47168  ],\n",
       "       [ 35.112    ,   0.       ,  19.47168  ,  29.112    ,  23.0896   ],\n",
       "       [ 42.64     ,   0.       ,  23.0896   ,  42.64     ,  29.112    ],\n",
       "       [ 65.8      ,   0.       ,  35.112    ,  10.       ,  42.64     ],\n",
       "       [  0.       ,   0.       ,   0.       ,   0.       ,   0.       ]])"
      ]
     },
     "execution_count": 44,
     "metadata": {},
     "output_type": "execute_result"
    }
   ],
   "source": [
    "#PRINT Q TABLE\n",
    "Q"
   ]
  },
  {
   "cell_type": "code",
   "execution_count": 42,
   "metadata": {},
   "outputs": [],
   "source": [
    "#Use the Q tabel to find the optimal route for the searcher\n",
    "route = []\n",
    "state = 0\n",
    "while state != 24:\n",
    "    direction = np.argmax(Q[state])\n",
    "    state = transition[state][direction]\n",
    "    route.append(state)"
   ]
  },
  {
   "cell_type": "code",
   "execution_count": 43,
   "metadata": {},
   "outputs": [
    {
     "data": {
      "text/plain": [
       "[5, 6, 7, 8, 13, 18, 19, 24]"
      ]
     },
     "execution_count": 43,
     "metadata": {},
     "output_type": "execute_result"
    }
   ],
   "source": [
    "#show the route that the algorithm outputs as optimial\n",
    "route"
   ]
  },
  {
   "cell_type": "code",
   "execution_count": null,
   "metadata": {},
   "outputs": [],
   "source": []
  }
 ],
 "metadata": {
  "kernelspec": {
   "display_name": "Python 3",
   "language": "python",
   "name": "python3"
  },
  "language_info": {
   "codemirror_mode": {
    "name": "ipython",
    "version": 3
   },
   "file_extension": ".py",
   "mimetype": "text/x-python",
   "name": "python",
   "nbconvert_exporter": "python",
   "pygments_lexer": "ipython3",
   "version": "3.7.1"
  }
 },
 "nbformat": 4,
 "nbformat_minor": 2
}
